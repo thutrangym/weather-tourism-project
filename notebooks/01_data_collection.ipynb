{
 "cells": [
  {
   "cell_type": "markdown",
   "id": "4aa87651",
   "metadata": {},
   "source": [
    "# 01 Data Collection\n",
    "\n",
    "•\tSử dụng API để thu thập dữ liệu thời tiết theo thành phố và thời gian.\n",
    "\n",
    "•\tLưu dữ liệu ra CSV.\n",
    "\n",
    "•\tVí dụ lấy dữ liệu Open-Meteo hoặc các nguồn khác."
   ]
  },
  {
   "cell_type": "code",
   "execution_count": 1,
   "id": "b22d3e7c",
   "metadata": {},
   "outputs": [
    {
     "name": "stderr",
     "output_type": "stream",
     "text": [
      "<>:76: SyntaxWarning: invalid escape sequence '\\w'\n",
      "<>:76: SyntaxWarning: invalid escape sequence '\\w'\n",
      "C:\\Windows\\Temp\\ipykernel_23728\\311486649.py:76: SyntaxWarning: invalid escape sequence '\\w'\n",
      "  csv_filename = \"D:\\weather-tourism-project\\data\\weather_data_raw.csv\"\n"
     ]
    },
    {
     "name": "stdout",
     "output_type": "stream",
     "text": [
      "Thu thập dữ liệu cho HaNoi...\n",
      "Thu thập dữ liệu cho DaNang...\n",
      "Thu thập dữ liệu cho HoChiMinh...\n",
      " Dữ liệu đã được lưu ra D:\\weather-tourism-project\\data\\weather_data_raw.csv\n",
      " Dữ liệu đã được lưu vào MongoDB\n"
     ]
    }
   ],
   "source": [
    "# 📦 Cài đặt và import thư viện\n",
    "import requests\n",
    "import pandas as pd\n",
    "from pymongo import MongoClient\n",
    "from datetime import datetime\n",
    "\n",
    "# 🌍 Cấu hình thành phố và toạ độ\n",
    "cities = {\n",
    "    \"HaNoi\": {\"lat\": 21.0285, \"lon\": 105.8542},\n",
    "    \"DaNang\": {\"lat\": 16.0471, \"lon\": 108.2068},\n",
    "    \"HoChiMinh\": {\"lat\": 10.7626, \"lon\": 106.6602}\n",
    "}\n",
    "\n",
    "# Hàm thu thập dữ liệu từ API Open-Meteo\n",
    "def fetch_weather_for_city(city_name, lat, lon):\n",
    "    url = \"https://api.open-meteo.com/v1/forecast\"\n",
    "    params = {\n",
    "        \"latitude\": lat,\n",
    "        \"longitude\": lon,\n",
    "        \"hourly\": \",\".join([\n",
    "            \"temperature_2m\",\n",
    "            \"rain\",\n",
    "            \"relative_humidity_2m\",\n",
    "            \"wind_speed_10m\",\n",
    "            \"cloud_cover\",\n",
    "            \"precipitation\"\n",
    "        ]),\n",
    "        \"timezone\": \"Asia/Bangkok\"\n",
    "    }\n",
    "    response = requests.get(url, params=params)\n",
    "    data = response.json()\n",
    "    \n",
    "    # Chuyển dữ liệu về DataFrame\n",
    "    df = pd.DataFrame({\n",
    "        \"time\": data[\"hourly\"][\"time\"],\n",
    "        \"temperature_2m\": data[\"hourly\"][\"temperature_2m\"],\n",
    "        \"rain\": data[\"hourly\"][\"rain\"],\n",
    "        \"relative_humidity_2m\": data[\"hourly\"][\"relative_humidity_2m\"],\n",
    "        \"wind_speed_10m\": data[\"hourly\"][\"wind_speed_10m\"],\n",
    "        \"cloud_cover\": data[\"hourly\"][\"cloud_cover\"],\n",
    "        \"precipitation\": data[\"hourly\"][\"precipitation\"]\n",
    "    })\n",
    "    \n",
    "    df[\"city\"] = city_name\n",
    "    return df\n",
    "\n",
    "# Thu thập dữ liệu từ tất cả thành phố\n",
    "all_data = pd.DataFrame()\n",
    "for city, coords in cities.items():\n",
    "    print(f\"Thu thập dữ liệu cho {city}...\")\n",
    "    df_city = fetch_weather_for_city(city, coords[\"lat\"], coords[\"lon\"])\n",
    "    all_data = pd.concat([all_data, df_city], ignore_index=True)\n",
    "\n",
    "# Chuẩn hóa tên cột cho bước tiền xử lý\n",
    "all_data[\"time\"] = pd.to_datetime(all_data[\"time\"])\n",
    "all_data[\"date\"] = all_data[\"time\"].dt.date\n",
    "all_data[\"hour\"] = all_data[\"time\"].dt.hour\n",
    "\n",
    "# 🧾 Đổi tên cột\n",
    "all_data = all_data.rename(columns={\n",
    "    \"temperature_2m\": \"temp\",\n",
    "    \"rain\": \"rain_amount\",\n",
    "    \"relative_humidity_2m\": \"humidity\",\n",
    "    \"wind_speed_10m\": \"wind\",\n",
    "    \"cloud_cover\": \"cloud\",\n",
    "    \"precipitation\": \"precip\"\n",
    "})\n",
    "\n",
    "# 🔎 Chọn và sắp xếp lại cột\n",
    "all_data = all_data[[\n",
    "    \"date\", \"hour\", \"temp\", \"rain_amount\", \"humidity\", \n",
    "    \"wind\", \"cloud\", \"precip\", \"city\"\n",
    "]]\n",
    "\n",
    "# Lưu ra CSV\n",
    "csv_filename = \"D:\\weather-tourism-project\\data\\weather_data_raw.csv\"\n",
    "all_data.to_csv(csv_filename, index=False)\n",
    "print(f\" Dữ liệu đã được lưu ra {csv_filename}\")\n",
    "\n",
    "# Lưu vào MongoDB\n",
    "# Chuyển cột 'date' sang dạng chuỗi để tránh lỗi serialize\n",
    "all_data[\"date\"] = all_data[\"date\"].astype(str)\n",
    "\n",
    "client = MongoClient(\"mongodb://localhost:27017/\")\n",
    "db = client[\"weather_db\"]\n",
    "collection = db[\"raw_weather\"]\n",
    "collection.insert_many(all_data.to_dict(\"records\"))\n",
    "print(\" Dữ liệu đã được lưu vào MongoDB\")\n"
   ]
  }
 ],
 "metadata": {
  "kernelspec": {
   "display_name": "base",
   "language": "python",
   "name": "python3"
  },
  "language_info": {
   "codemirror_mode": {
    "name": "ipython",
    "version": 3
   },
   "file_extension": ".py",
   "mimetype": "text/x-python",
   "name": "python",
   "nbconvert_exporter": "python",
   "pygments_lexer": "ipython3",
   "version": "3.12.7"
  }
 },
 "nbformat": 4,
 "nbformat_minor": 5
}
