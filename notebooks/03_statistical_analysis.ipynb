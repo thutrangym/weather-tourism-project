{
 "cells": [
  {
   "cell_type": "markdown",
   "id": "aa537104",
   "metadata": {},
   "source": [
    "# 03 Statical analysis\n",
    "\n",
    "•\tKiểm định giả thuyết ANOVA, T-test, chi-square.\n",
    "\n",
    "•\tPhân tích sự khác biệt giữa các thành phố, các năm.\n",
    "\n",
    "•\tBáo cáo kết quả thống kê."
   ]
  },
  {
   "cell_type": "markdown",
   "id": "36a468a5",
   "metadata": {},
   "source": [
    "# 1. Import libraries"
   ]
  },
  {
   "cell_type": "code",
   "execution_count": 1,
   "id": "1a287113",
   "metadata": {},
   "outputs": [],
   "source": [
    "import pandas as pd\n",
    "import scipy.stats as stats\n",
    "import seaborn as sns\n",
    "import matplotlib.pyplot as plt\n",
    "from sklearn.model_selection import train_test_split\n",
    "from sklearn.ensemble import RandomForestClassifier\n",
    "from sklearn.metrics import classification_report, confusion_matrix\n"
   ]
  },
  {
   "cell_type": "markdown",
   "id": "66858f95",
   "metadata": {},
   "source": [
    "# 2. Read CSV"
   ]
  },
  {
   "cell_type": "code",
   "execution_count": 7,
   "id": "8f6548e4",
   "metadata": {},
   "outputs": [],
   "source": [
    "df = pd.read_csv(r\"D:\\weather-tourism-project\\data\\processed_weather_data.csv\",  sep=\",\", header=0)"
   ]
  },
  {
   "cell_type": "code",
   "execution_count": null,
   "id": "4a3d0a3b",
   "metadata": {},
   "outputs": [],
   "source": [
    "df['date'] = pd.to_datetime(df['date'])\n",
    "df['month'] = df['date'].dt.month\n",
    "df_summer = df[df['month'].between(4, 8)]"
   ]
  },
  {
   "cell_type": "markdown",
   "id": "4418b1cd",
   "metadata": {},
   "source": [
    "# Phân tích thống kê mô tả theo thành phố và nhãn"
   ]
  },
  {
   "cell_type": "code",
   "execution_count": 4,
   "id": "1e8df650",
   "metadata": {},
   "outputs": [
    {
     "name": "stdout",
     "output_type": "stream",
     "text": [
      "              temp                                                     \\\n",
      "             count       mean       std   min   25%   50%   75%   max   \n",
      "city                                                                    \n",
      "DaNang     12312.0  25.834665  4.439968  14.0  22.7  25.5  28.5  42.0   \n",
      "HaNoi      12312.0  23.732545  5.607076   7.2  19.6  24.7  27.7  41.1   \n",
      "HoChiMinh  12312.0  27.828484  3.402960  18.4  25.2  27.1  30.3  38.8   \n",
      "\n",
      "          humidity             ...  cloud          precip                      \\\n",
      "             count       mean  ...    75%    max    count      mean       std   \n",
      "city                           ...                                              \n",
      "DaNang     12312.0  82.290530  ...  100.0  100.0  12312.0  0.280011  1.102613   \n",
      "HaNoi      12312.0  78.492528  ...  100.0  100.0  12312.0  0.257123  1.165626   \n",
      "HoChiMinh  12312.0  76.348603  ...  100.0  100.0  12312.0  0.211550  0.969225   \n",
      "\n",
      "                                     \n",
      "           min  25%  50%  75%   max  \n",
      "city                                 \n",
      "DaNang     0.0  0.0  0.0  0.1  35.9  \n",
      "HaNoi      0.0  0.0  0.0  0.1  26.4  \n",
      "HoChiMinh  0.0  0.0  0.0  0.0  19.3  \n",
      "\n",
      "[3 rows x 48 columns]\n"
     ]
    }
   ],
   "source": [
    "summary = df.groupby(['city'])[['temp', 'humidity', 'rain_amount', 'wind', 'cloud', 'precip']].describe()\n",
    "print(summary)"
   ]
  },
  {
   "cell_type": "markdown",
   "id": "83def6dd",
   "metadata": {},
   "source": [
    "# Anova - So sánh comfort index giữa các thành phố"
   ]
  },
  {
   "cell_type": "code",
   "execution_count": 11,
   "id": "a8e78995",
   "metadata": {},
   "outputs": [
    {
     "name": "stdout",
     "output_type": "stream",
     "text": [
      "ANOVA p-value: 2.640998495222785e-32\n"
     ]
    }
   ],
   "source": [
    "# ANOVA - So sánh comfort index giữa các thành phố\n",
    "anova_result = stats.f_oneway(\n",
    "    df_summer[df_summer['city'] == 'HaNoi']['comfort_index'],\n",
    "    df_summer[df_summer['city'] == 'DaNang']['comfort_index'],\n",
    "    df_summer[df_summer['city'] == 'HoChiMinh']['comfort_index']\n",
    ")\n",
    "print(\"ANOVA p-value:\", anova_result.pvalue)\n"
   ]
  },
  {
   "cell_type": "markdown",
   "id": "1f568d61",
   "metadata": {},
   "source": [
    "# T-test - So sánh comfort index giữa hai năm (nếu có)"
   ]
  },
  {
   "cell_type": "code",
   "execution_count": 14,
   "id": "805021c3",
   "metadata": {},
   "outputs": [
    {
     "name": "stdout",
     "output_type": "stream",
     "text": [
      "T-test p-value: 0.3992289669435741\n"
     ]
    }
   ],
   "source": [
    "df_summer.loc[:, 'year'] = pd.to_datetime(df_summer['date']).dt.year\n",
    "if df_summer['year'].nunique() >= 2:\n",
    "    y2024 = df_summer[df_summer['year'] == 2024]['comfort_index']\n",
    "    y2025 = df_summer[df_summer['year'] == 2025]['comfort_index']\n",
    "    t_stat, p_val = stats.ttest_ind(y2024, y2025, equal_var=False)\n",
    "    print(\"T-test p-value:\", p_val)"
   ]
  },
  {
   "cell_type": "markdown",
   "id": "6478dde4",
   "metadata": {},
   "source": [
    "# Kiểm định chi-square giữa thành phố và nhãn"
   ]
  },
  {
   "cell_type": "code",
   "execution_count": 13,
   "id": "4bf35ba3",
   "metadata": {},
   "outputs": [
    {
     "name": "stdout",
     "output_type": "stream",
     "text": [
      "Chi-square p-value: 4.9530096579621095e-26\n"
     ]
    }
   ],
   "source": [
    "from scipy.stats import chi2_contingency\n",
    "contingency_table = pd.crosstab(df_summer['city'], df_summer['label'])\n",
    "chi2, p, dof, expected = chi2_contingency(contingency_table)\n",
    "print(\"Chi-square p-value:\", p)\n"
   ]
  }
 ],
 "metadata": {
  "kernelspec": {
   "display_name": "base",
   "language": "python",
   "name": "python3"
  },
  "language_info": {
   "codemirror_mode": {
    "name": "ipython",
    "version": 3
   },
   "file_extension": ".py",
   "mimetype": "text/x-python",
   "name": "python",
   "nbconvert_exporter": "python",
   "pygments_lexer": "ipython3",
   "version": "3.12.7"
  }
 },
 "nbformat": 4,
 "nbformat_minor": 5
}
